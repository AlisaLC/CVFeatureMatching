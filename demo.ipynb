{
  "cells": [
    {
      "cell_type": "code",
      "execution_count": null,
      "metadata": {
        "colab": {
          "base_uri": "https://localhost:8080/"
        },
        "id": "ZCZs-Kcbifjq",
        "outputId": "70e840ba-feea-4d45-e47c-ae81a0bd6d49"
      },
      "outputs": [],
      "source": [
        "!git clone --quiet --recursive https://github.com/cvg/Hierarchical-Localization/\n",
        "%cd Hierarchical-Localization\n",
        "!pip install --progress-bar off --quiet -e .\n",
        "!pip install --progress-bar off --quiet --upgrade plotly\n",
        "%cd .."
      ]
    },
    {
      "cell_type": "code",
      "execution_count": null,
      "metadata": {
        "colab": {
          "base_uri": "https://localhost:8080/"
        },
        "id": "AZQCWNcBjGJU",
        "outputId": "cf1b9e18-fb8b-433f-a426-d8873e8f66b3"
      },
      "outputs": [],
      "source": [
        "!git clone https://github.com/AlisaLC/CVFeatureMatching/\n",
        "!pip install -r CVFeatureMatching/requirements.txt"
      ]
    },
    {
      "cell_type": "code",
      "execution_count": null,
      "metadata": {
        "colab": {
          "base_uri": "https://localhost:8080/"
        },
        "id": "JPB-Tr21jVid",
        "outputId": "116eae6d-3f25-4dc7-d7c6-d694fe443c02"
      },
      "outputs": [],
      "source": [
        "!npm install localtunnel"
      ]
    },
    {
      "cell_type": "code",
      "execution_count": null,
      "metadata": {
        "id": "mmMoG-JcjsoR"
      },
      "outputs": [],
      "source": [
        "!streamlit run /content/CVFeatureMatching/app_reconstruction.py &>/content/logs.txt &"
      ]
    },
    {
      "cell_type": "code",
      "execution_count": null,
      "metadata": {
        "colab": {
          "base_uri": "https://localhost:8080/"
        },
        "id": "QqdaaC--jyS_",
        "outputId": "85813870-331c-4e82-c3b5-b5c8b0fed2d2"
      },
      "outputs": [],
      "source": [
        "!npx localtunnel --port 8501"
      ]
    }
  ],
  "metadata": {
    "accelerator": "GPU",
    "colab": {
      "gpuType": "T4",
      "provenance": []
    },
    "kernelspec": {
      "display_name": "Python 3",
      "name": "python3"
    },
    "language_info": {
      "name": "python"
    }
  },
  "nbformat": 4,
  "nbformat_minor": 0
}
